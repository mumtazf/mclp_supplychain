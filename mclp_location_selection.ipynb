{
 "cells": [
  {
   "cell_type": "markdown",
   "id": "f772eb9e",
   "metadata": {},
   "source": [
    "## Location Selection for Facilities in Massachusetts\n",
    "\n",
    "This jupyter notebook consists of MCLP algorithm implementation. MCLP is maximal coverage location problem that aims to find locations that maximize demand coverage. The data used for this analysis is curated using US Census. "
   ]
  },
  {
   "cell_type": "code",
   "execution_count": 4,
   "id": "b4b8127f",
   "metadata": {},
   "outputs": [],
   "source": [
    "from geopy.distance import geodesic\n",
    "import pulp\n",
    "import pandas as pd"
   ]
  },
  {
   "cell_type": "code",
   "execution_count": 5,
   "id": "53bebf49",
   "metadata": {},
   "outputs": [],
   "source": [
    "def mclp(df, p):\n",
    "\n",
    "    #Step 1 -- preparing longtitude and latitude data\n",
    "    df['lat'] = df['lat'].astype(float)\n",
    "    df['lng'] = df['lng'].astype(float)\n",
    "\n",
    "    demand_points = list(zip(df['lat'], df['lng']))\n",
    "    coverage_radius_miles = 7\n",
    "    n = len(demand_points)\n",
    "\n",
    "    # Step 2 - Coverage matrix (if a location is covered within 7 mile or not)\n",
    "    coverage_matrix = []\n",
    "\n",
    "    for i in range(n):\n",
    "        covered_by_i = []\n",
    "        for j in range(n):\n",
    "            dist = geodesic(demand_points[i], demand_points[j]).miles\n",
    "            covered_by_i.append(1 if dist <= coverage_radius_miles else 0)\n",
    "        coverage_matrix.append(covered_by_i)\n",
    "    \n",
    "    # Step 3: Optimization model\n",
    "    model = pulp.LpProblem(\"MCLP_Same_Demand_Candidates\", pulp.LpMaximize)\n",
    "\n",
    "    # Decision variables\n",
    "    x = [pulp.LpVariable(f'x_{j}', cat='Binary') for j in range(n)]  # facility at j\n",
    "    y = [pulp.LpVariable(f'y_{i}', cat='Binary') for i in range(n)]  # demand i covered\n",
    "\n",
    "    # Objective -- number of demand covered\n",
    "    model += pulp.lpSum(y)\n",
    "\n",
    "    # Facility limit\n",
    "    model += pulp.lpSum(x) <= p\n",
    "\n",
    "    # Coverage constraints\n",
    "    for i in range(n):\n",
    "        model += y[i] <= pulp.lpSum(coverage_matrix[j][i] * x[j] for j in range(n))\n",
    "\n",
    "    model.solve()\n",
    "\n",
    "    # Selected facility locations\n",
    "    selected_indices = [i for i in range(n) if x[i].varValue == 1.0]\n",
    "    selected_locations = [demand_points[i] for i in selected_indices]\n",
    "\n",
    "    print(\"Selected facility locations:\", selected_locations)\n",
    "\n",
    "    get_result(selected_indices, coverage_matrix, df, n)\n"
   ]
  },
  {
   "cell_type": "code",
   "execution_count": 2,
   "id": "3227004b",
   "metadata": {},
   "outputs": [],
   "source": [
    "def get_result(selected_indices, coverage_matrix, df, n):\n",
    "    for i in selected_indices:\n",
    "        covered_points = []\n",
    "        total_population_covered = 0\n",
    "        for j in range(n):\n",
    "            if coverage_matrix[i][j]:\n",
    "                covered_points.append(j)\n",
    "        print(f\"Facility at {df.iloc[i]['city']} (lat={df.iloc[i]['lat']}, lon={df.iloc[i]['lng']}) covers:\")\n",
    "        for j in covered_points:\n",
    "            total_population_covered += df.iloc[j]['population']\n",
    "            print(f\"  - {df.iloc[j]['city']} (lat={df.iloc[j]['lat']}, lon={df.iloc[j]['lng']})\")\n",
    "        print(f\"total population covered: {total_population_covered}\")\n",
    "        print()\n"
   ]
  },
  {
   "cell_type": "markdown",
   "id": "77fb113f",
   "metadata": {},
   "source": [
    "## Location Analysis"
   ]
  },
  {
   "cell_type": "markdown",
   "id": "79e8ebf7",
   "metadata": {},
   "source": [
    "### Suffolk"
   ]
  },
  {
   "cell_type": "code",
   "execution_count": 7,
   "id": "5d79225f",
   "metadata": {},
   "outputs": [
    {
     "name": "stdout",
     "output_type": "stream",
     "text": [
      "Selected facility locations: [(42.34748, -71.08199)]\n",
      "Facility at Boston (lat=42.34748, lon=-71.08199) covers:\n",
      "  - Revere (lat=42.41887, lon=-71.004)\n",
      "  - Dorchester Center (lat=42.28583, lon=-71.07114)\n",
      "  - East Boston (lat=42.37324, lon=-71.01616)\n",
      "  - Brighton (lat=42.34989, lon=-71.15417)\n",
      "  - Jamaica Plain (lat=42.30823, lon=-71.11515)\n",
      "  - Chelsea (lat=42.39587, lon=-71.03251)\n",
      "  - Hyde Park (lat=42.25505, lon=-71.12662)\n",
      "  - South Boston (lat=42.33455, lon=-71.03875)\n",
      "  - Dorchester (lat=42.31578, lon=-71.0562)\n",
      "  - Roslindale (lat=42.28392, lon=-71.12468)\n",
      "  - Boston (lat=42.34046, lon=-71.09481)\n",
      "  - Boston (lat=42.33806, lon=-71.07057)\n",
      "  - Dorchester (lat=42.3057, lon=-71.08693)\n",
      "  - West Roxbury (lat=42.27931, lon=-71.16072)\n",
      "  - Roxbury (lat=42.32405, lon=-71.08522)\n",
      "  - Mattapan (lat=42.27588, lon=-71.0918)\n",
      "  - Dorchester (lat=42.29427, lon=-71.05185)\n",
      "  - Boston (lat=42.35105, lon=-71.07638)\n",
      "  - Charlestown (lat=42.37975, lon=-71.06167)\n",
      "  - Winthrop (lat=42.37724, lon=-70.98115)\n",
      "  - Allston (lat=42.35855, lon=-71.12931)\n",
      "  - Roxbury Crossing (lat=42.33212, lon=-71.09654)\n",
      "  - Boston (lat=42.36337, lon=-71.06686)\n",
      "  - Boston (lat=42.35067, lon=-71.06054)\n",
      "  - Boston (lat=42.34815, lon=-71.03942)\n",
      "  - Boston (lat=42.36526, lon=-71.05524)\n",
      "  - Boston (lat=42.35657, lon=-71.06516)\n",
      "  - Boston (lat=42.36498, lon=-71.05277)\n",
      "  - Boston (lat=42.35797, lon=-71.05189)\n",
      "  - Boston (lat=42.36717, lon=-71.12509)\n",
      "  - Boston (lat=42.34748, lon=-71.08199)\n",
      "  - Boston (lat=42.35838, lon=-71.06383)\n",
      "  - Boston (lat=42.36144, lon=-71.05945)\n",
      "  - Boston (lat=42.34935, lon=-71.05564)\n",
      "total population covered: 753678.0\n",
      "\n"
     ]
    }
   ],
   "source": [
    "suffolk = pd.read_csv(\"suffolk.csv\")\n",
    "\n",
    "mclp(suffolk, p = 2)"
   ]
  },
  {
   "cell_type": "markdown",
   "id": "c2c01d60",
   "metadata": {},
   "source": [
    "## Norfolk"
   ]
  },
  {
   "cell_type": "code",
   "execution_count": 9,
   "id": "9f4dfbdb",
   "metadata": {},
   "outputs": [
    {
     "name": "stdout",
     "output_type": "stream",
     "text": [
      "Selected facility locations: [(42.20386, -71.0022), (42.2366, -71.28421)]\n",
      "Facility at Braintree (lat=42.20386, lon=-71.0022) covers:\n",
      "  - Quincy (lat=42.23971, lon=-71.01802)\n",
      "  - Braintree (lat=42.20386, lon=-71.0022)\n",
      "  - Randolph (lat=42.17506, lon=-71.05011)\n",
      "  - Milton (lat=42.23854, lon=-71.08464)\n",
      "  - Canton (lat=42.17504, lon=-71.12645)\n",
      "  - Quincy (lat=42.28709, lon=-71.02604)\n",
      "  - Quincy (lat=42.26644, lon=-71.01621)\n",
      "  - South Weymouth (lat=42.16625, lon=-70.95253)\n",
      "  - Weymouth (lat=42.20724, lon=-70.95764)\n",
      "  - East Weymouth (lat=42.2111, lon=-70.93135)\n",
      "  - Holbrook (lat=42.14733, lon=-71.00484)\n",
      "  - North Weymouth (lat=42.24434, lon=-70.94378)\n",
      "  - Avon (lat=42.12666, lon=-71.04922)\n",
      "total population covered: 301605.0\n",
      "\n",
      "Facility at Dover (lat=42.2366, lon=-71.28421) covers:\n",
      "  - Norwood (lat=42.18563, lon=-71.19464)\n",
      "  - Dedham (lat=42.24665, lon=-71.1777)\n",
      "  - Needham (lat=42.27615, lon=-71.24387)\n",
      "  - Walpole (lat=42.14689, lon=-71.25916)\n",
      "  - Wellesley Hills (lat=42.31064, lon=-71.27779)\n",
      "  - Westwood (lat=42.22024, lon=-71.21057)\n",
      "  - Medfield (lat=42.1848, lon=-71.30501)\n",
      "  - Wellesley (lat=42.29455, lon=-71.29859)\n",
      "  - Needham Heights (lat=42.29959, lon=-71.2317)\n",
      "  - Millis (lat=42.1693, lon=-71.36261)\n",
      "  - Dover (lat=42.2366, lon=-71.28421)\n",
      "  - East Walpole (lat=42.15489, lon=-71.2155)\n",
      "  - Babson Park (lat=42.29777, lon=-71.26887)\n",
      "total population covered: 186799.0\n",
      "\n"
     ]
    }
   ],
   "source": [
    "norfolk = pd.read_csv(\"norfolk.csv\")\n",
    "\n",
    "mclp(norfolk, p = 2)"
   ]
  },
  {
   "cell_type": "markdown",
   "id": "ff178687",
   "metadata": {},
   "source": [
    "### Worcester "
   ]
  },
  {
   "cell_type": "code",
   "execution_count": 11,
   "id": "cf896e1b",
   "metadata": {},
   "outputs": [
    {
     "name": "stdout",
     "output_type": "stream",
     "text": [
      "Selected facility locations: [(42.22684, -71.79037)]\n",
      "Facility at Worcester (lat=42.22684, lon=-71.79037) covers:\n",
      "  - Worcester (lat=42.25085, lon=-71.7683)\n",
      "  - Shrewsbury (lat=42.28419, lon=-71.71558)\n",
      "  - Worcester (lat=42.28979, lon=-71.78802)\n",
      "  - Worcester (lat=42.24645, lon=-71.80968)\n",
      "  - Worcester (lat=42.27219, lon=-71.84946)\n",
      "  - Worcester (lat=42.28592, lon=-71.82853)\n",
      "  - Worcester (lat=42.31367, lon=-71.79614)\n",
      "  - Worcester (lat=42.24373, lon=-71.84429)\n",
      "  - Auburn (lat=42.19689, lon=-71.84549)\n",
      "  - Millbury (lat=42.19228, lon=-71.77397)\n",
      "  - Sutton (lat=42.13387, lon=-71.75179)\n",
      "  - Worcester (lat=42.22684, lon=-71.79037)\n",
      "  - Grafton (lat=42.20077, lon=-71.67892)\n",
      "  - North Grafton (lat=42.23189, lon=-71.69219)\n",
      "  - Leicester (lat=42.24919, lon=-71.91989)\n",
      "  - Worcester (lat=42.2621, lon=-71.80145)\n",
      "  - South Grafton (lat=42.17496, lon=-71.67762)\n",
      "  - Rochdale (lat=42.20241, lon=-71.90995)\n",
      "  - Cherry Valley (lat=42.23945, lon=-71.87702)\n",
      "  - North Oxford (lat=42.16177, lon=-71.89217)\n",
      "total population covered: 316858.0\n",
      "\n"
     ]
    }
   ],
   "source": [
    "worcester = pd.read_csv(\"worcester.csv\")\n",
    "\n",
    "mclp(worcester, p = 1)"
   ]
  },
  {
   "cell_type": "markdown",
   "id": "f140634c",
   "metadata": {},
   "source": [
    "### Middlesex"
   ]
  },
  {
   "cell_type": "code",
   "execution_count": 12,
   "id": "112ca56e",
   "metadata": {},
   "outputs": [
    {
     "name": "stdout",
     "output_type": "stream",
     "text": [
      "Selected facility locations: [(42.39602, -71.17955), (42.59156, -71.35553)]\n",
      "Facility at Belmont (lat=42.39602, lon=-71.17955) covers:\n",
      "  - Cambridge (lat=42.373778, lon=-71.106896)\n",
      "  - Somerville (lat=42.39145333333334, lon=-71.10275666666666)\n",
      "  - Malden (lat=42.43048, lon=-71.05762)\n",
      "  - Waltham (lat=42.38714, lon=-71.23950333333333)\n",
      "  - Medford (lat=42.42324, lon=-71.10878)\n",
      "  - Everett (lat=42.40643, lon=-71.05446)\n",
      "  - Arlington (lat=42.41825, lon=-71.165515)\n",
      "  - Woburn (lat=42.48694, lon=-71.15415)\n",
      "  - Watertown (lat=42.37, lon=-71.17713)\n",
      "  - Lexington (lat=42.448105, lon=-71.22842)\n",
      "  - Belmont (lat=42.39602, lon=-71.17955)\n",
      "  - Stoneham (lat=42.47396, lon=-71.09705)\n",
      "  - Winchester (lat=42.45177, lon=-71.14628)\n",
      "  - Newton Center (lat=42.31515, lon=-71.19174)\n",
      "  - Newton (lat=42.35294, lon=-71.18763)\n",
      "  - Weston (lat=42.35893, lon=-71.30009)\n",
      "  - West Newton (lat=42.34969, lon=-71.22646)\n",
      "  - Newtonville (lat=42.35206, lon=-71.20835)\n",
      "  - Auburndale (lat=42.34541, lon=-71.24759)\n",
      "  - Newton Highlands (lat=42.31693, lon=-71.20875)\n",
      "  - Waban (lat=42.32777, lon=-71.23142)\n",
      "  - Lincoln (lat=42.42572, lon=-71.31013)\n",
      "  - Newton Upper Falls (lat=42.31274, lon=-71.21981)\n",
      "  - Newton Lower Falls (lat=42.33102, lon=-71.25599)\n",
      "total population covered: 762571.0\n",
      "\n",
      "Facility at Chelmsford (lat=42.59156, lon=-71.35553) covers:\n",
      "  - Lowell (lat=42.641635, lon=-71.32082750000001)\n",
      "  - Dracut (lat=42.68323, lon=-71.30063)\n",
      "  - Tewksbury (lat=42.61206, lon=-71.22733)\n",
      "  - Billerica (lat=42.54999, lon=-71.25206)\n",
      "  - Chelmsford (lat=42.59156, lon=-71.35553)\n",
      "  - Westford (lat=42.58642, lon=-71.44008)\n",
      "  - Tyngsboro (lat=42.66626, lon=-71.42911)\n",
      "  - North Billerica (lat=42.57427, lon=-71.29437)\n",
      "  - North Chelmsford (lat=42.63274, lon=-71.39132)\n",
      "  - Carlisle (lat=42.53001, lon=-71.35128)\n",
      "total population covered: 298488.0\n",
      "\n"
     ]
    }
   ],
   "source": [
    "middlesex = pd.read_csv(\"middlesex.csv\")\n",
    "\n",
    "mclp(middlesex, p = 2)"
   ]
  },
  {
   "cell_type": "markdown",
   "id": "d748a70a",
   "metadata": {},
   "source": [
    "### Essex"
   ]
  },
  {
   "cell_type": "code",
   "execution_count": 14,
   "id": "c735ba59",
   "metadata": {},
   "outputs": [
    {
     "name": "stdout",
     "output_type": "stream",
     "text": [
      "Selected facility locations: [(42.51298, -70.90266)]\n",
      "Facility at Salem (lat=42.51298, lon=-70.90266) covers:\n",
      "  - Peabody (lat=42.53374, lon=-70.97222)\n",
      "  - Lynn (lat=42.4712, lon=-70.93983)\n",
      "  - Salem (lat=42.51298, lon=-70.90266)\n",
      "  - Beverly (lat=42.56841, lon=-70.8647)\n",
      "  - Saugus (lat=42.46922, lon=-71.01299)\n",
      "  - Danvers (lat=42.57398, lon=-70.94923)\n",
      "  - Lynn (lat=42.46355, lon=-70.9733)\n",
      "  - Marblehead (lat=42.49924, lon=-70.86348)\n",
      "  - Lynn (lat=42.49151, lon=-70.97166)\n",
      "  - Swampscott (lat=42.47572, lon=-70.90684)\n",
      "  - Wenham (lat=42.60078, lon=-70.8826)\n",
      "  - Nahant (lat=42.42856, lon=-70.92614)\n",
      "  - Lynn (lat=42.46125, lon=-70.94639)\n",
      "  - Prides Crossing (lat=42.56294, lon=-70.82996)\n",
      "  - Hathorne (lat=42.58579, lon=-70.98406)\n",
      "total population covered: 341839.0\n",
      "\n"
     ]
    }
   ],
   "source": [
    "essex = pd.read_csv(\"essex.csv\")\n",
    "\n",
    "mclp(essex, p = 1)"
   ]
  }
 ],
 "metadata": {
  "kernelspec": {
   "display_name": "Python 3",
   "language": "python",
   "name": "python3"
  },
  "language_info": {
   "codemirror_mode": {
    "name": "ipython",
    "version": 3
   },
   "file_extension": ".py",
   "mimetype": "text/x-python",
   "name": "python",
   "nbconvert_exporter": "python",
   "pygments_lexer": "ipython3",
   "version": "3.10.9"
  }
 },
 "nbformat": 4,
 "nbformat_minor": 5
}
